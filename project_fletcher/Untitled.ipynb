{
 "cells": [
  {
   "cell_type": "code",
   "execution_count": 5,
   "metadata": {},
   "outputs": [],
   "source": [
    "from Topic_Analyzer import topic_analyze"
   ]
  },
  {
   "cell_type": "code",
   "execution_count": 6,
   "metadata": {},
   "outputs": [],
   "source": [
    "tp={}\n",
    "tp['Border Wall']=['border','wall','immigration','funding','promise']\n",
    "tp['Mueller']=['probe','investigation','election', \"collusion\",\"interference\"]\n",
    "tp[\"stormy\"]=['affair', 'president','lawyer','payment','campaign']\n",
    "tp['pokemon']=['pokemon','pikachu','nintendo','videogame','fun']"
   ]
  },
  {
   "cell_type": "code",
   "execution_count": 8,
   "metadata": {},
   "outputs": [
    {
     "name": "stdout",
     "output_type": "stream",
     "text": [
      "['family', 'trump', 'premise', 'bar', 'civility']\n",
      "Putting up silly things like this all right so it really unbecoming of Congress.\n",
      "I protected Mr trump for ten years.\n",
      "Unlike my calling for trump that has a thousand followers hes got over sixty million people.\n",
      "Have you ever seen Mr trump personally threaten people with the physical harm  No. One he would use others.\n"
     ]
    },
    {
     "data": {
      "text/plain": [
       "{'Border Wall': 0.48143753,\n",
       " 'Mueller': 0.44676897,\n",
       " 'stormy': 0.57806504,\n",
       " 'pokemon': 0.23252419}"
      ]
     },
     "execution_count": 8,
     "metadata": {},
     "output_type": "execute_result"
    }
   ],
   "source": [
    "topic_analyze('https://www.youtube.com/watch?v=BbHLPBJvSOc&t=3759s',tp)"
   ]
  },
  {
   "cell_type": "code",
   "execution_count": null,
   "metadata": {},
   "outputs": [],
   "source": []
  },
  {
   "cell_type": "code",
   "execution_count": null,
   "metadata": {},
   "outputs": [],
   "source": []
  }
 ],
 "metadata": {
  "kernelspec": {
   "display_name": "Python 3",
   "language": "python",
   "name": "python3"
  },
  "language_info": {
   "codemirror_mode": {
    "name": "ipython",
    "version": 3
   },
   "file_extension": ".py",
   "mimetype": "text/x-python",
   "name": "python",
   "nbconvert_exporter": "python",
   "pygments_lexer": "ipython3",
   "version": "3.7.1"
  }
 },
 "nbformat": 4,
 "nbformat_minor": 2
}
