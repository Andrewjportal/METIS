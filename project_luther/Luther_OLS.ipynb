{
 "cells": [
  {
   "cell_type": "code",
   "execution_count": 45,
   "metadata": {},
   "outputs": [],
   "source": [
    "import pandas as pd\n",
    "import numpy as np\n",
    "import matplotlib.pyplot as plt\n",
    "from sklearn.linear_model import LinearRegression\n",
    "import statsmodels.api as sm\n",
    "import seaborn as sns\n",
    "from sklearn.model_selection import train_test_split\n",
    "from sklearn.linear_model import LinearRegression, Lasso, LassoCV, Ridge, RidgeCV\n",
    "from sklearn.metrics import r2_score\n",
    "import scipy.stats as stats"
   ]
  },
  {
   "cell_type": "code",
   "execution_count": 31,
   "metadata": {},
   "outputs": [],
   "source": [
    "df=pd.read_pickle('log_data')"
   ]
  },
  {
   "cell_type": "code",
   "execution_count": 32,
   "metadata": {},
   "outputs": [],
   "source": [
    "#df=df.drop(df.columns[[4]], axis=1)"
   ]
  },
  {
   "cell_type": "code",
   "execution_count": 33,
   "metadata": {},
   "outputs": [
    {
     "data": {
      "text/html": [
       "<div>\n",
       "<style scoped>\n",
       "    .dataframe tbody tr th:only-of-type {\n",
       "        vertical-align: middle;\n",
       "    }\n",
       "\n",
       "    .dataframe tbody tr th {\n",
       "        vertical-align: top;\n",
       "    }\n",
       "\n",
       "    .dataframe thead th {\n",
       "        text-align: right;\n",
       "    }\n",
       "</style>\n",
       "<table border=\"1\" class=\"dataframe\">\n",
       "  <thead>\n",
       "    <tr style=\"text-align: right;\">\n",
       "      <th></th>\n",
       "      <th>GDP_1</th>\n",
       "      <th>labor</th>\n",
       "      <th>land</th>\n",
       "      <th>rails</th>\n",
       "      <th>airports</th>\n",
       "      <th>pdebt</th>\n",
       "    </tr>\n",
       "    <tr>\n",
       "      <th>Country</th>\n",
       "      <th></th>\n",
       "      <th></th>\n",
       "      <th></th>\n",
       "      <th></th>\n",
       "      <th></th>\n",
       "      <th></th>\n",
       "    </tr>\n",
       "  </thead>\n",
       "  <tbody>\n",
       "    <tr>\n",
       "      <th>Albania</th>\n",
       "      <td>24.307063</td>\n",
       "      <td>13.996164</td>\n",
       "      <td>10.266323</td>\n",
       "      <td>6.517671</td>\n",
       "      <td>1.386294</td>\n",
       "      <td>23.967385</td>\n",
       "    </tr>\n",
       "    <tr>\n",
       "      <th>Algeria</th>\n",
       "      <td>27.168986</td>\n",
       "      <td>16.285304</td>\n",
       "      <td>14.683342</td>\n",
       "      <td>8.287277</td>\n",
       "      <td>5.056246</td>\n",
       "      <td>25.814190</td>\n",
       "    </tr>\n",
       "    <tr>\n",
       "      <th>Angola</th>\n",
       "      <td>25.989060</td>\n",
       "      <td>16.342039</td>\n",
       "      <td>14.036011</td>\n",
       "      <td>7.955776</td>\n",
       "      <td>5.170484</td>\n",
       "      <td>25.562882</td>\n",
       "    </tr>\n",
       "    <tr>\n",
       "      <th>Armenia</th>\n",
       "      <td>24.067540</td>\n",
       "      <td>14.225631</td>\n",
       "      <td>10.300349</td>\n",
       "      <td>6.659294</td>\n",
       "      <td>2.397895</td>\n",
       "      <td>23.442052</td>\n",
       "    </tr>\n",
       "    <tr>\n",
       "      <th>Australia</th>\n",
       "      <td>27.852563</td>\n",
       "      <td>16.373513</td>\n",
       "      <td>15.862070</td>\n",
       "      <td>10.414603</td>\n",
       "      <td>6.173786</td>\n",
       "      <td>26.975493</td>\n",
       "    </tr>\n",
       "    <tr>\n",
       "      <th>Austria</th>\n",
       "      <td>26.812311</td>\n",
       "      <td>15.264780</td>\n",
       "      <td>11.337035</td>\n",
       "      <td>8.665613</td>\n",
       "      <td>3.951244</td>\n",
       "      <td>26.574054</td>\n",
       "    </tr>\n",
       "    <tr>\n",
       "      <th>Azerbaijan</th>\n",
       "      <td>25.871922</td>\n",
       "      <td>15.448274</td>\n",
       "      <td>11.369055</td>\n",
       "      <td>7.987626</td>\n",
       "      <td>3.610918</td>\n",
       "      <td>25.268616</td>\n",
       "    </tr>\n",
       "    <tr>\n",
       "      <th>Belarus</th>\n",
       "      <td>25.912884</td>\n",
       "      <td>15.292788</td>\n",
       "      <td>12.243368</td>\n",
       "      <td>8.617581</td>\n",
       "      <td>4.174387</td>\n",
       "      <td>25.239539</td>\n",
       "    </tr>\n",
       "    <tr>\n",
       "      <th>Belgium</th>\n",
       "      <td>26.994632</td>\n",
       "      <td>15.487735</td>\n",
       "      <td>10.326400</td>\n",
       "      <td>8.186464</td>\n",
       "      <td>3.713572</td>\n",
       "      <td>27.026131</td>\n",
       "    </tr>\n",
       "    <tr>\n",
       "      <th>Benin</th>\n",
       "      <td>23.957621</td>\n",
       "      <td>15.113520</td>\n",
       "      <td>11.631792</td>\n",
       "      <td>6.082219</td>\n",
       "      <td>1.791759</td>\n",
       "      <td>23.352485</td>\n",
       "    </tr>\n",
       "  </tbody>\n",
       "</table>\n",
       "</div>"
      ],
      "text/plain": [
       "                GDP_1      labor       land      rails  airports      pdebt\n",
       "Country                                                                    \n",
       "Albania     24.307063  13.996164  10.266323   6.517671  1.386294  23.967385\n",
       "Algeria     27.168986  16.285304  14.683342   8.287277  5.056246  25.814190\n",
       "Angola      25.989060  16.342039  14.036011   7.955776  5.170484  25.562882\n",
       "Armenia     24.067540  14.225631  10.300349   6.659294  2.397895  23.442052\n",
       "Australia   27.852563  16.373513  15.862070  10.414603  6.173786  26.975493\n",
       "Austria     26.812311  15.264780  11.337035   8.665613  3.951244  26.574054\n",
       "Azerbaijan  25.871922  15.448274  11.369055   7.987626  3.610918  25.268616\n",
       "Belarus     25.912884  15.292788  12.243368   8.617581  4.174387  25.239539\n",
       "Belgium     26.994632  15.487735  10.326400   8.186464  3.713572  27.026131\n",
       "Benin       23.957621  15.113520  11.631792   6.082219  1.791759  23.352485"
      ]
     },
     "execution_count": 33,
     "metadata": {},
     "output_type": "execute_result"
    }
   ],
   "source": [
    "df.head(10)"
   ]
  },
  {
   "cell_type": "code",
   "execution_count": 34,
   "metadata": {},
   "outputs": [
    {
     "data": {
      "text/plain": [
       "0.9466244128487824"
      ]
     },
     "execution_count": 34,
     "metadata": {},
     "output_type": "execute_result"
    }
   ],
   "source": [
    "# Create an empty model\n",
    "lr = LinearRegression()\n",
    "\n",
    "# Choose the predictor variables, here all but the first which is the response variable\n",
    "# This model is analogous to the Y ~ X1 + X2 + X3 + X4 + X5 + X6 model\n",
    "X = df.iloc[:, 1:]\n",
    "\n",
    "# Choose the response variable(s)\n",
    "y = df.iloc[:, 0]\n",
    "\n",
    "X_train, X_test, y_train, y_test = train_test_split(X, y, test_size=0.2,random_state=1)\n",
    "# Fit the model to the full dataset\n",
    "lr.fit(X_train, y_train)\n",
    "\n",
    "# Print out the R^2 for the model against the full dataset\n",
    "lr.score(X,y)"
   ]
  },
  {
   "cell_type": "code",
   "execution_count": 35,
   "metadata": {},
   "outputs": [
    {
     "data": {
      "text/html": [
       "<table class=\"simpletable\">\n",
       "<caption>OLS Regression Results</caption>\n",
       "<tr>\n",
       "  <th>Dep. Variable:</th>          <td>GDP_1</td>      <th>  R-squared:         </th> <td>   1.000</td> \n",
       "</tr>\n",
       "<tr>\n",
       "  <th>Model:</th>                   <td>OLS</td>       <th>  Adj. R-squared:    </th> <td>   1.000</td> \n",
       "</tr>\n",
       "<tr>\n",
       "  <th>Method:</th>             <td>Least Squares</td>  <th>  F-statistic:       </th> <td>1.173e+04</td>\n",
       "</tr>\n",
       "<tr>\n",
       "  <th>Date:</th>             <td>Fri, 25 Jan 2019</td> <th>  Prob (F-statistic):</th> <td>5.95e-31</td> \n",
       "</tr>\n",
       "<tr>\n",
       "  <th>Time:</th>                 <td>12:16:39</td>     <th>  Log-Likelihood:    </th> <td> -14.447</td> \n",
       "</tr>\n",
       "<tr>\n",
       "  <th>No. Observations:</th>      <td>    23</td>      <th>  AIC:               </th> <td>   38.89</td> \n",
       "</tr>\n",
       "<tr>\n",
       "  <th>Df Residuals:</th>          <td>    18</td>      <th>  BIC:               </th> <td>   44.57</td> \n",
       "</tr>\n",
       "<tr>\n",
       "  <th>Df Model:</th>              <td>     5</td>      <th>                     </th>     <td> </td>    \n",
       "</tr>\n",
       "<tr>\n",
       "  <th>Covariance Type:</th>      <td>nonrobust</td>    <th>                     </th>     <td> </td>    \n",
       "</tr>\n",
       "</table>\n",
       "<table class=\"simpletable\">\n",
       "<tr>\n",
       "      <td></td>        <th>coef</th>     <th>std err</th>      <th>t</th>      <th>P>|t|</th>  <th>[0.025</th>    <th>0.975]</th>  \n",
       "</tr>\n",
       "<tr>\n",
       "  <th>labor</th>    <td>    0.1628</td> <td>    0.140</td> <td>    1.164</td> <td> 0.260</td> <td>   -0.131</td> <td>    0.457</td>\n",
       "</tr>\n",
       "<tr>\n",
       "  <th>land</th>     <td>    0.2019</td> <td>    0.108</td> <td>    1.874</td> <td> 0.077</td> <td>   -0.024</td> <td>    0.428</td>\n",
       "</tr>\n",
       "<tr>\n",
       "  <th>rails</th>    <td>   -0.1595</td> <td>    0.210</td> <td>   -0.760</td> <td> 0.457</td> <td>   -0.600</td> <td>    0.281</td>\n",
       "</tr>\n",
       "<tr>\n",
       "  <th>airports</th> <td>    0.0438</td> <td>    0.158</td> <td>    0.278</td> <td> 0.784</td> <td>   -0.287</td> <td>    0.375</td>\n",
       "</tr>\n",
       "<tr>\n",
       "  <th>pdebt</th>    <td>    0.8597</td> <td>    0.089</td> <td>    9.676</td> <td> 0.000</td> <td>    0.673</td> <td>    1.046</td>\n",
       "</tr>\n",
       "</table>\n",
       "<table class=\"simpletable\">\n",
       "<tr>\n",
       "  <th>Omnibus:</th>       <td> 0.062</td> <th>  Durbin-Watson:     </th> <td>   1.576</td>\n",
       "</tr>\n",
       "<tr>\n",
       "  <th>Prob(Omnibus):</th> <td> 0.969</td> <th>  Jarque-Bera (JB):  </th> <td>   0.091</td>\n",
       "</tr>\n",
       "<tr>\n",
       "  <th>Skew:</th>          <td> 0.067</td> <th>  Prob(JB):          </th> <td>   0.956</td>\n",
       "</tr>\n",
       "<tr>\n",
       "  <th>Kurtosis:</th>      <td> 2.722</td> <th>  Cond. No.          </th> <td>    77.0</td>\n",
       "</tr>\n",
       "</table><br/><br/>Warnings:<br/>[1] Standard Errors assume that the covariance matrix of the errors is correctly specified."
      ],
      "text/plain": [
       "<class 'statsmodels.iolib.summary.Summary'>\n",
       "\"\"\"\n",
       "                            OLS Regression Results                            \n",
       "==============================================================================\n",
       "Dep. Variable:                  GDP_1   R-squared:                       1.000\n",
       "Model:                            OLS   Adj. R-squared:                  1.000\n",
       "Method:                 Least Squares   F-statistic:                 1.173e+04\n",
       "Date:                Fri, 25 Jan 2019   Prob (F-statistic):           5.95e-31\n",
       "Time:                        12:16:39   Log-Likelihood:                -14.447\n",
       "No. Observations:                  23   AIC:                             38.89\n",
       "Df Residuals:                      18   BIC:                             44.57\n",
       "Df Model:                           5                                         \n",
       "Covariance Type:            nonrobust                                         \n",
       "==============================================================================\n",
       "                 coef    std err          t      P>|t|      [0.025      0.975]\n",
       "------------------------------------------------------------------------------\n",
       "labor          0.1628      0.140      1.164      0.260      -0.131       0.457\n",
       "land           0.2019      0.108      1.874      0.077      -0.024       0.428\n",
       "rails         -0.1595      0.210     -0.760      0.457      -0.600       0.281\n",
       "airports       0.0438      0.158      0.278      0.784      -0.287       0.375\n",
       "pdebt          0.8597      0.089      9.676      0.000       0.673       1.046\n",
       "==============================================================================\n",
       "Omnibus:                        0.062   Durbin-Watson:                   1.576\n",
       "Prob(Omnibus):                  0.969   Jarque-Bera (JB):                0.091\n",
       "Skew:                           0.067   Prob(JB):                        0.956\n",
       "Kurtosis:                       2.722   Cond. No.                         77.0\n",
       "==============================================================================\n",
       "\n",
       "Warnings:\n",
       "[1] Standard Errors assume that the covariance matrix of the errors is correctly specified.\n",
       "\"\"\""
      ]
     },
     "execution_count": 35,
     "metadata": {},
     "output_type": "execute_result"
    }
   ],
   "source": [
    "X = sm.add_constant(X)\n",
    "luther_model = sm.OLS(y_test, X_test, data=df)\n",
    "\n",
    "results = luther_model.fit()\n",
    "\n",
    "# summarize our model\n",
    "results.summary()"
   ]
  },
  {
   "cell_type": "code",
   "execution_count": 36,
   "metadata": {},
   "outputs": [
    {
     "data": {
      "text/html": [
       "<table class=\"simpletable\">\n",
       "<caption>OLS Regression Results</caption>\n",
       "<tr>\n",
       "  <th>Dep. Variable:</th>          <td>GDP_1</td>      <th>  R-squared:         </th> <td>   0.947</td>\n",
       "</tr>\n",
       "<tr>\n",
       "  <th>Model:</th>                   <td>OLS</td>       <th>  Adj. R-squared:    </th> <td>   0.945</td>\n",
       "</tr>\n",
       "<tr>\n",
       "  <th>Method:</th>             <td>Least Squares</td>  <th>  F-statistic:       </th> <td>   385.5</td>\n",
       "</tr>\n",
       "<tr>\n",
       "  <th>Date:</th>             <td>Fri, 25 Jan 2019</td> <th>  Prob (F-statistic):</th> <td>1.05e-66</td>\n",
       "</tr>\n",
       "<tr>\n",
       "  <th>Time:</th>                 <td>12:16:39</td>     <th>  Log-Likelihood:    </th> <td> -58.676</td>\n",
       "</tr>\n",
       "<tr>\n",
       "  <th>No. Observations:</th>      <td>   113</td>      <th>  AIC:               </th> <td>   129.4</td>\n",
       "</tr>\n",
       "<tr>\n",
       "  <th>Df Residuals:</th>          <td>   107</td>      <th>  BIC:               </th> <td>   145.7</td>\n",
       "</tr>\n",
       "<tr>\n",
       "  <th>Df Model:</th>              <td>     5</td>      <th>                     </th>     <td> </td>   \n",
       "</tr>\n",
       "<tr>\n",
       "  <th>Covariance Type:</th>      <td>nonrobust</td>    <th>                     </th>     <td> </td>   \n",
       "</tr>\n",
       "</table>\n",
       "<table class=\"simpletable\">\n",
       "<tr>\n",
       "      <td></td>        <th>coef</th>     <th>std err</th>      <th>t</th>      <th>P>|t|</th>  <th>[0.025</th>    <th>0.975]</th>  \n",
       "</tr>\n",
       "<tr>\n",
       "  <th>const</th>    <td>    5.6441</td> <td>    0.753</td> <td>    7.494</td> <td> 0.000</td> <td>    4.151</td> <td>    7.137</td>\n",
       "</tr>\n",
       "<tr>\n",
       "  <th>labor</th>    <td>    0.2031</td> <td>    0.055</td> <td>    3.715</td> <td> 0.000</td> <td>    0.095</td> <td>    0.311</td>\n",
       "</tr>\n",
       "<tr>\n",
       "  <th>land</th>     <td>   -0.0934</td> <td>    0.045</td> <td>   -2.097</td> <td> 0.038</td> <td>   -0.182</td> <td>   -0.005</td>\n",
       "</tr>\n",
       "<tr>\n",
       "  <th>rails</th>    <td>    0.0998</td> <td>    0.040</td> <td>    2.489</td> <td> 0.014</td> <td>    0.020</td> <td>    0.179</td>\n",
       "</tr>\n",
       "<tr>\n",
       "  <th>airports</th> <td>    0.1671</td> <td>    0.046</td> <td>    3.608</td> <td> 0.000</td> <td>    0.075</td> <td>    0.259</td>\n",
       "</tr>\n",
       "<tr>\n",
       "  <th>pdebt</th>    <td>    0.6632</td> <td>    0.045</td> <td>   14.753</td> <td> 0.000</td> <td>    0.574</td> <td>    0.752</td>\n",
       "</tr>\n",
       "</table>\n",
       "<table class=\"simpletable\">\n",
       "<tr>\n",
       "  <th>Omnibus:</th>       <td> 1.785</td> <th>  Durbin-Watson:     </th> <td>   2.063</td>\n",
       "</tr>\n",
       "<tr>\n",
       "  <th>Prob(Omnibus):</th> <td> 0.410</td> <th>  Jarque-Bera (JB):  </th> <td>   1.330</td>\n",
       "</tr>\n",
       "<tr>\n",
       "  <th>Skew:</th>          <td> 0.081</td> <th>  Prob(JB):          </th> <td>   0.514</td>\n",
       "</tr>\n",
       "<tr>\n",
       "  <th>Kurtosis:</th>      <td> 3.506</td> <th>  Cond. No.          </th> <td>    643.</td>\n",
       "</tr>\n",
       "</table><br/><br/>Warnings:<br/>[1] Standard Errors assume that the covariance matrix of the errors is correctly specified."
      ],
      "text/plain": [
       "<class 'statsmodels.iolib.summary.Summary'>\n",
       "\"\"\"\n",
       "                            OLS Regression Results                            \n",
       "==============================================================================\n",
       "Dep. Variable:                  GDP_1   R-squared:                       0.947\n",
       "Model:                            OLS   Adj. R-squared:                  0.945\n",
       "Method:                 Least Squares   F-statistic:                     385.5\n",
       "Date:                Fri, 25 Jan 2019   Prob (F-statistic):           1.05e-66\n",
       "Time:                        12:16:39   Log-Likelihood:                -58.676\n",
       "No. Observations:                 113   AIC:                             129.4\n",
       "Df Residuals:                     107   BIC:                             145.7\n",
       "Df Model:                           5                                         \n",
       "Covariance Type:            nonrobust                                         \n",
       "==============================================================================\n",
       "                 coef    std err          t      P>|t|      [0.025      0.975]\n",
       "------------------------------------------------------------------------------\n",
       "const          5.6441      0.753      7.494      0.000       4.151       7.137\n",
       "labor          0.2031      0.055      3.715      0.000       0.095       0.311\n",
       "land          -0.0934      0.045     -2.097      0.038      -0.182      -0.005\n",
       "rails          0.0998      0.040      2.489      0.014       0.020       0.179\n",
       "airports       0.1671      0.046      3.608      0.000       0.075       0.259\n",
       "pdebt          0.6632      0.045     14.753      0.000       0.574       0.752\n",
       "==============================================================================\n",
       "Omnibus:                        1.785   Durbin-Watson:                   2.063\n",
       "Prob(Omnibus):                  0.410   Jarque-Bera (JB):                1.330\n",
       "Skew:                           0.081   Prob(JB):                        0.514\n",
       "Kurtosis:                       3.506   Cond. No.                         643.\n",
       "==============================================================================\n",
       "\n",
       "Warnings:\n",
       "[1] Standard Errors assume that the covariance matrix of the errors is correctly specified.\n",
       "\"\"\""
      ]
     },
     "execution_count": 36,
     "metadata": {},
     "output_type": "execute_result"
    }
   ],
   "source": [
    "X = sm.add_constant(X)\n",
    "luther_model = sm.OLS(y, X, data=df)\n",
    "\n",
    "results = luther_model.fit()\n",
    "\n",
    "# summarize our model\n",
    "results.summary()"
   ]
  },
  {
   "cell_type": "code",
   "execution_count": 58,
   "metadata": {},
   "outputs": [
    {
     "data": {
      "image/png": "[encoded data removed]",
      "text/plain": [
       "<Figure size 432x288 with 1 Axes>"
      ]
     },
     "metadata": {},
     "output_type": "display_data"
    }
   ],
   "source": [
    "df['predict']=results.predict(X)\n",
    "df['resid']= y-df.predict\n",
    "with sns.axes_style('white'):\n",
    "    plot = df.plot(kind='scatter', x='predict', y='resid', alpha=0.5)\n",
    "    plt.title(\"Distribution of Residuals\")\n"
   ]
  },
  {
   "cell_type": "code",
   "execution_count": 59,
   "metadata": {},
   "outputs": [],
   "source": [
    "fig = plot.get_figure()\n",
    "fig.savefig(\"Dist_Res.png\")\n"
   ]
  },
  {
   "cell_type": "code",
   "execution_count": 42,
   "metadata": {},
   "outputs": [
    {
     "data": {
      "image/png": "[encoded data removed]",
      "text/plain": [
       "<Figure size 432x288 with 2 Axes>"
      ]
     },
     "metadata": {
      "needs_background": "light"
     },
     "output_type": "display_data"
    }
   ],
   "source": [
    "sns.heatmap(df.corr(), cmap=\"seismic\", annot=True, vmin=-1, vmax=1);"
   ]
  },
  {
   "cell_type": "code",
   "execution_count": 46,
   "metadata": {},
   "outputs": [
    {
     "data": {
      "text/plain": [
       "Text(0, 0.5, 'y')"
      ]
     },
     "execution_count": 46,
     "metadata": {},
     "output_type": "execute_result"
    },
    {
     "data": {
      "image/png": "[encoded data removed]",
      "text/plain": [
       "<Figure size 432x288 with 1 Axes>"
      ]
     },
     "metadata": {
      "needs_background": "light"
     },
     "output_type": "display_data"
    }
   ],
   "source": [
    "z=results.predict(X)\n",
    "plt.scatter(z,y)\n",
    "\n",
    "plt.title(\"Regression fit\")\n",
    "plt.xlabel(\"z\")\n",
    "plt.ylabel(\"y\")"
   ]
  },
  {
   "cell_type": "code",
   "execution_count": 56,
   "metadata": {},
   "outputs": [
    {
     "data": {
      "image/png": "[encoded data removed]",
      "text/plain": [
       "<Figure size 432x288 with 1 Axes>"
      ]
     },
     "metadata": {
      "needs_background": "light"
     },
     "output_type": "display_data"
    }
   ],
   "source": [
    "res=y-df.predict\n",
    "stats.probplot(res, dist=\"norm\", plot=plt)\n",
    "plt.title(\"Normal Q-Q plot\")\n",
    "plt.savefig('Q-Q.png')"
   ]
  },
  {
   "cell_type": "code",
   "execution_count": null,
   "metadata": {},
   "outputs": [],
   "source": []
  },
  {
   "cell_type": "code",
   "execution_count": null,
   "metadata": {},
   "outputs": [],
   "source": []
  }
 ],
 "metadata": {
  "kernelspec": {
   "display_name": "Python 3",
   "language": "python",
   "name": "python3"
  },
  "language_info": {
   "codemirror_mode": {
    "name": "ipython",
    "version": 3
   },
   "file_extension": ".py",
   "mimetype": "text/x-python",
   "name": "python",
   "nbconvert_exporter": "python",
   "pygments_lexer": "ipython3",
   "version": "3.7.1"
  }
 },
 "nbformat": 4,
 "nbformat_minor": 2
}
