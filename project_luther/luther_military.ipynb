{
 "cells": [
  {
   "cell_type": "code",
   "execution_count": 1,
   "metadata": {},
   "outputs": [],
   "source": [
    "import pandas as pd\n",
    "import numpy as np\n",
    "import matplotlib.pyplot as plt\n",
    "import requests\n",
    "import urllib.request, urllib.parse, urllib.error\n",
    "from bs4 import BeautifulSoup\n",
    "import ssl\n",
    "import requests"
   ]
  },
  {
   "cell_type": "code",
   "execution_count": 5,
   "metadata": {},
   "outputs": [],
   "source": [
    "tables = pd.read_html(\"https://www.cia.gov/library/publications/the-world-factbook/fields/2034.html\")"
   ]
  },
  {
   "cell_type": "code",
   "execution_count": 59,
   "metadata": {},
   "outputs": [],
   "source": [
    "df=pd.DataFrame(tables[0])"
   ]
  },
  {
   "cell_type": "code",
   "execution_count": 60,
   "metadata": {},
   "outputs": [],
   "source": [
    "df.columns = df.iloc[0]"
   ]
  },
  {
   "cell_type": "code",
   "execution_count": 61,
   "metadata": {},
   "outputs": [],
   "source": [
    "df=df.reindex(df.index.drop(0))"
   ]
  },
  {
   "cell_type": "code",
   "execution_count": 62,
   "metadata": {},
   "outputs": [],
   "source": [
    "df['pct_1'] = df.iloc[:,1].astype(str).str[0:5]"
   ]
  },
  {
   "cell_type": "code",
   "execution_count": 63,
   "metadata": {},
   "outputs": [],
   "source": [
    "df['year_1']=df.iloc[:,1].astype(str).str[14:18]"
   ]
  },
  {
   "cell_type": "code",
   "execution_count": 64,
   "metadata": {},
   "outputs": [],
   "source": [
    "df['pct_2']= df.iloc[:,1].astype(str).str[20:25]"
   ]
  },
  {
   "cell_type": "code",
   "execution_count": 65,
   "metadata": {},
   "outputs": [],
   "source": [
    "df['year_2']= df.iloc[:,1].astype(str).str[34:38]"
   ]
  },
  {
   "cell_type": "code",
   "execution_count": 66,
   "metadata": {},
   "outputs": [],
   "source": [
    "df['pct_3']= df.iloc[:,1].astype(str).str[40:45]"
   ]
  },
  {
   "cell_type": "code",
   "execution_count": 67,
   "metadata": {},
   "outputs": [],
   "source": [
    "df['year_3']= df.iloc[:,1].astype(str).str[54:58]"
   ]
  },
  {
   "cell_type": "code",
   "execution_count": 69,
   "metadata": {},
   "outputs": [
    {
     "data": {
      "text/html": [
       "<div>\n",
       "<style scoped>\n",
       "    .dataframe tbody tr th:only-of-type {\n",
       "        vertical-align: middle;\n",
       "    }\n",
       "\n",
       "    .dataframe tbody tr th {\n",
       "        vertical-align: top;\n",
       "    }\n",
       "\n",
       "    .dataframe thead th {\n",
       "        text-align: right;\n",
       "    }\n",
       "</style>\n",
       "<table border=\"1\" class=\"dataframe\">\n",
       "  <thead>\n",
       "    <tr style=\"text-align: right;\">\n",
       "      <th></th>\n",
       "      <th>Country</th>\n",
       "      <th>MILITARY EXPENDITURES(% OF GDP)</th>\n",
       "      <th>pct_1</th>\n",
       "      <th>year_1</th>\n",
       "      <th>pct_2</th>\n",
       "      <th>year_2</th>\n",
       "      <th>pct_3</th>\n",
       "      <th>year_3</th>\n",
       "    </tr>\n",
       "  </thead>\n",
       "  <tbody>\n",
       "    <tr>\n",
       "      <th>1</th>\n",
       "      <td>Afghanistan</td>\n",
       "      <td>0.89% of GDP (2016) 0.99% of GDP (2015) 1.33% ...</td>\n",
       "      <td>0.89%</td>\n",
       "      <td>2016</td>\n",
       "      <td>0.99%</td>\n",
       "      <td>2015</td>\n",
       "      <td>1.33%</td>\n",
       "      <td>2014</td>\n",
       "    </tr>\n",
       "    <tr>\n",
       "      <th>2</th>\n",
       "      <td>Albania</td>\n",
       "      <td>1.22% of GDP (2017) 1.23% of GDP (2016) 1.16% ...</td>\n",
       "      <td>1.22%</td>\n",
       "      <td>2017</td>\n",
       "      <td>1.23%</td>\n",
       "      <td>2016</td>\n",
       "      <td>1.16%</td>\n",
       "      <td>2015</td>\n",
       "    </tr>\n",
       "    <tr>\n",
       "      <th>3</th>\n",
       "      <td>Algeria</td>\n",
       "      <td>6.55% of GDP (2016) 6.32% of GDP (2015) 5.54% ...</td>\n",
       "      <td>6.55%</td>\n",
       "      <td>2016</td>\n",
       "      <td>6.32%</td>\n",
       "      <td>2015</td>\n",
       "      <td>5.54%</td>\n",
       "      <td>2014</td>\n",
       "    </tr>\n",
       "    <tr>\n",
       "      <th>4</th>\n",
       "      <td>Angola</td>\n",
       "      <td>2.95% of GDP (2016) 3.52% of GDP (2015) 5.4% o...</td>\n",
       "      <td>2.95%</td>\n",
       "      <td>2016</td>\n",
       "      <td>3.52%</td>\n",
       "      <td>2015</td>\n",
       "      <td>5.4%</td>\n",
       "      <td>014)</td>\n",
       "    </tr>\n",
       "    <tr>\n",
       "      <th>5</th>\n",
       "      <td>Argentina</td>\n",
       "      <td>0.95% of GDP (2016) 0.86% of GDP (2015) 0.88% ...</td>\n",
       "      <td>0.95%</td>\n",
       "      <td>2016</td>\n",
       "      <td>0.86%</td>\n",
       "      <td>2015</td>\n",
       "      <td>0.88%</td>\n",
       "      <td>2014</td>\n",
       "    </tr>\n",
       "  </tbody>\n",
       "</table>\n",
       "</div>"
      ],
      "text/plain": [
       "0      Country                    MILITARY EXPENDITURES(% OF GDP)  pct_1  \\\n",
       "1  Afghanistan  0.89% of GDP (2016) 0.99% of GDP (2015) 1.33% ...  0.89%   \n",
       "2      Albania  1.22% of GDP (2017) 1.23% of GDP (2016) 1.16% ...  1.22%   \n",
       "3      Algeria  6.55% of GDP (2016) 6.32% of GDP (2015) 5.54% ...  6.55%   \n",
       "4       Angola  2.95% of GDP (2016) 3.52% of GDP (2015) 5.4% o...  2.95%   \n",
       "5    Argentina  0.95% of GDP (2016) 0.86% of GDP (2015) 0.88% ...  0.95%   \n",
       "\n",
       "0 year_1  pct_2 year_2  pct_3 year_3  \n",
       "1   2016  0.99%   2015  1.33%   2014  \n",
       "2   2017  1.23%   2016  1.16%   2015  \n",
       "3   2016  6.32%   2015  5.54%   2014  \n",
       "4   2016  3.52%   2015  5.4%    014)  \n",
       "5   2016  0.86%   2015  0.88%   2014  "
      ]
     },
     "execution_count": 69,
     "metadata": {},
     "output_type": "execute_result"
    }
   ],
   "source": [
    "df.head()"
   ]
  },
  {
   "cell_type": "code",
   "execution_count": 73,
   "metadata": {},
   "outputs": [],
   "source": [
    "df.loc[df['year_1'].eq('2017') & df['pct_1'],'pct_1'] = df['pct_2']"
   ]
  },
  {
   "cell_type": "code",
   "execution_count": 75,
   "metadata": {},
   "outputs": [],
   "source": [
    "df.loc[df['year_1'].eq('2018') & df['pct_1'],'pct_1'] = df['pct_3']"
   ]
  },
  {
   "cell_type": "code",
   "execution_count": 75,
   "metadata": {},
   "outputs": [],
   "source": [
    "df.loc[df['year_1'].eq('2017') & df['pct_1'],'pct_1'] = df['pct_2']"
   ]
  },
  {
   "cell_type": "code",
   "execution_count": 78,
   "metadata": {},
   "outputs": [],
   "source": [
    "df.rename(index=str, columns={'pct_1': \"2016_ME%\"})"
   ]
  },
  {
   "cell_type": "code",
   "execution_count": 87,
   "metadata": {},
   "outputs": [],
   "source": [
    "df.to_pickle(\"first_run\")\n"
   ]
  },
  {
   "cell_type": "code",
   "execution_count": null,
   "metadata": {},
   "outputs": [],
   "source": [
    "df=pd.read_pickle(\"first_run\")"
   ]
  },
  {
   "cell_type": "code",
   "execution_count": null,
   "metadata": {},
   "outputs": [],
   "source": []
  },
  {
   "cell_type": "code",
   "execution_count": null,
   "metadata": {},
   "outputs": [],
   "source": []
  }
 ],
 "metadata": {
  "kernelspec": {
   "display_name": "Python 3",
   "language": "python",
   "name": "python3"
  },
  "language_info": {
   "codemirror_mode": {
    "name": "ipython",
    "version": 3
   },
   "file_extension": ".py",
   "mimetype": "text/x-python",
   "name": "python",
   "nbconvert_exporter": "python",
   "pygments_lexer": "ipython3",
   "version": "3.7.1"
  }
 },
 "nbformat": 4,
 "nbformat_minor": 2
}
