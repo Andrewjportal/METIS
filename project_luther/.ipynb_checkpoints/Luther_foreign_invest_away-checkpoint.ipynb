{
 "cells": [
  {
   "cell_type": "code",
   "execution_count": 1,
   "metadata": {},
   "outputs": [],
   "source": [
    "import requests\n",
    "import urllib.request, urllib.parse, urllib.error\n",
    "from bs4 import BeautifulSoup\n",
    "import ssl\n",
    "import requests\n",
    "import pandas as pd"
   ]
  },
  {
   "cell_type": "code",
   "execution_count": 2,
   "metadata": {},
   "outputs": [],
   "source": [
    "foreign_invest=pd.read_html(\"https://www.cia.gov/LIBRARY/publications/the-world-factbook/fields/2198.html\")"
   ]
  },
  {
   "cell_type": "code",
   "execution_count": 3,
   "metadata": {},
   "outputs": [],
   "source": [
    "df=pd.DataFrame(foreign_invest[0])"
   ]
  },
  {
   "cell_type": "code",
   "execution_count": 4,
   "metadata": {},
   "outputs": [],
   "source": [
    "df.columns = df.iloc[0]\n",
    "df=df.reindex(df.index.drop(0))"
   ]
  },
  {
   "cell_type": "code",
   "execution_count": 15,
   "metadata": {},
   "outputs": [
    {
     "data": {
      "text/html": [
       "<div>\n",
       "<style scoped>\n",
       "    .dataframe tbody tr th:only-of-type {\n",
       "        vertical-align: middle;\n",
       "    }\n",
       "\n",
       "    .dataframe tbody tr th {\n",
       "        vertical-align: top;\n",
       "    }\n",
       "\n",
       "    .dataframe thead th {\n",
       "        text-align: right;\n",
       "    }\n",
       "</style>\n",
       "<table border=\"1\" class=\"dataframe\">\n",
       "  <thead>\n",
       "    <tr style=\"text-align: right;\">\n",
       "      <th></th>\n",
       "      <th>Country</th>\n",
       "      <th>STOCK OF DIRECT FOREIGN INVESTMENT - AT HOME</th>\n",
       "      <th>finv</th>\n",
       "      <th>mil</th>\n",
       "      <th>bil</th>\n",
       "    </tr>\n",
       "  </thead>\n",
       "  <tbody>\n",
       "    <tr>\n",
       "      <th>1</th>\n",
       "      <td>Albania</td>\n",
       "      <td>$6.12 billion (31 December 2016 est.) $5.452 b...</td>\n",
       "      <td>6.120000e+09</td>\n",
       "      <td>False</td>\n",
       "      <td>True</td>\n",
       "    </tr>\n",
       "    <tr>\n",
       "      <th>2</th>\n",
       "      <td>Algeria</td>\n",
       "      <td>$26.24 billion (31 December 2017 est.) $25.74 ...</td>\n",
       "      <td>2.624000e+10</td>\n",
       "      <td>False</td>\n",
       "      <td>True</td>\n",
       "    </tr>\n",
       "    <tr>\n",
       "      <th>3</th>\n",
       "      <td>Angola</td>\n",
       "      <td>$15.8 billion (31 December 2017 est.) $9.16 bi...</td>\n",
       "      <td>1.580000e+10</td>\n",
       "      <td>False</td>\n",
       "      <td>True</td>\n",
       "    </tr>\n",
       "    <tr>\n",
       "      <th>4</th>\n",
       "      <td>Argentina</td>\n",
       "      <td>$84.14 billion (31 December 2017 est.) $72.11 ...</td>\n",
       "      <td>8.414000e+10</td>\n",
       "      <td>False</td>\n",
       "      <td>True</td>\n",
       "    </tr>\n",
       "    <tr>\n",
       "      <th>5</th>\n",
       "      <td>Armenia</td>\n",
       "      <td>$4.169 billion (2015 est.) $4.087 billion (201...</td>\n",
       "      <td>4.169000e+09</td>\n",
       "      <td>False</td>\n",
       "      <td>True</td>\n",
       "    </tr>\n",
       "  </tbody>\n",
       "</table>\n",
       "</div>"
      ],
      "text/plain": [
       "0    Country       STOCK OF DIRECT FOREIGN INVESTMENT - AT HOME          finv  \\\n",
       "1    Albania  $6.12 billion (31 December 2016 est.) $5.452 b...  6.120000e+09   \n",
       "2    Algeria  $26.24 billion (31 December 2017 est.) $25.74 ...  2.624000e+10   \n",
       "3     Angola  $15.8 billion (31 December 2017 est.) $9.16 bi...  1.580000e+10   \n",
       "4  Argentina  $84.14 billion (31 December 2017 est.) $72.11 ...  8.414000e+10   \n",
       "5    Armenia  $4.169 billion (2015 est.) $4.087 billion (201...  4.169000e+09   \n",
       "\n",
       "0    mil   bil  \n",
       "1  False  True  \n",
       "2  False  True  \n",
       "3  False  True  \n",
       "4  False  True  \n",
       "5  False  True  "
      ]
     },
     "execution_count": 15,
     "metadata": {},
     "output_type": "execute_result"
    }
   ],
   "source": [
    "df.head()"
   ]
  },
  {
   "cell_type": "code",
   "execution_count": 6,
   "metadata": {},
   "outputs": [],
   "source": [
    "df['finv']=df['STOCK OF DIRECT FOREIGN INVESTMENT - AT HOME']\n",
    "df['finv'] = df['STOCK OF DIRECT FOREIGN INVESTMENT - AT HOME'].str.split('(', n = 1, expand = True)"
   ]
  },
  {
   "cell_type": "code",
   "execution_count": 7,
   "metadata": {},
   "outputs": [],
   "source": [
    "df['finv'] = df['finv'].replace({'[A-Za-z]':''}, regex=True)"
   ]
  },
  {
   "cell_type": "code",
   "execution_count": 8,
   "metadata": {},
   "outputs": [],
   "source": [
    "df['finv'] = df['finv'].replace({'[$]':''}, regex=True)"
   ]
  },
  {
   "cell_type": "code",
   "execution_count": 9,
   "metadata": {},
   "outputs": [],
   "source": [
    "df['mil']=df['STOCK OF DIRECT FOREIGN INVESTMENT - AT HOME'].str.contains(\"million\")"
   ]
  },
  {
   "cell_type": "code",
   "execution_count": 10,
   "metadata": {},
   "outputs": [],
   "source": [
    "df['bil']=df['STOCK OF DIRECT FOREIGN INVESTMENT - AT HOME'].str.contains(\"billion\")"
   ]
  },
  {
   "cell_type": "code",
   "execution_count": 11,
   "metadata": {},
   "outputs": [],
   "source": [
    "df['finv'] = pd.to_numeric(df['finv'], errors='coerce')"
   ]
  },
  {
   "cell_type": "code",
   "execution_count": 13,
   "metadata": {},
   "outputs": [],
   "source": [
    "df.loc[df['mil'].eq(True) & df['finv'],'finv'] = df['finv'].multiply(1000000)"
   ]
  },
  {
   "cell_type": "code",
   "execution_count": 14,
   "metadata": {},
   "outputs": [],
   "source": [
    "df.loc[df['bil'].eq(True) & df['finv'],'finv'] = df['finv'].multiply(1000000000)"
   ]
  },
  {
   "cell_type": "code",
   "execution_count": 16,
   "metadata": {},
   "outputs": [],
   "source": [
    "df.to_pickle(\"finv\")"
   ]
  },
  {
   "cell_type": "code",
   "execution_count": null,
   "metadata": {},
   "outputs": [],
   "source": []
  }
 ],
 "metadata": {
  "kernelspec": {
   "display_name": "Python 3",
   "language": "python",
   "name": "python3"
  },
  "language_info": {
   "codemirror_mode": {
    "name": "ipython",
    "version": 3
   },
   "file_extension": ".py",
   "mimetype": "text/x-python",
   "name": "python",
   "nbconvert_exporter": "python",
   "pygments_lexer": "ipython3",
   "version": "3.7.1"
  }
 },
 "nbformat": 4,
 "nbformat_minor": 2
}
